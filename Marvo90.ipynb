{
  "nbformat": 4,
  "nbformat_minor": 0,
  "metadata": {
    "colab": {
      "name": "Marvo90.ipynb",
      "provenance": [],
      "private_outputs": true,
      "collapsed_sections": [],
      "authorship_tag": "ABX9TyOQlrNakFMGlAIoUT8Ctk09",
      "include_colab_link": true
    },
    "kernelspec": {
      "name": "python3",
      "display_name": "Python 3"
    }
  },
  "cells": [
    {
      "cell_type": "markdown",
      "metadata": {
        "id": "view-in-github",
        "colab_type": "text"
      },
      "source": [
        "<a href=\"https://colab.research.google.com/github/guriben/IronFilings/blob/master/Marvo90.ipynb\" target=\"_parent\"><img src=\"https://colab.research.google.com/assets/colab-badge.svg\" alt=\"Open In Colab\"/></a>"
      ]
    },
    {
      "cell_type": "markdown",
      "metadata": {
        "id": "GgWIyk3SCbVZ",
        "colab_type": "text"
      },
      "source": [
        "# This Notebook helps you do Twitter \"sentiment analysis\"\n",
        "\n",
        "## It's completely free!\n",
        "---\n",
        "@MarvinJRees and @BristolCityCouncil spent ***£90,000*** on something *very* similar....**why?**\n",
        "\n",
        "---\n",
        "\n",
        "If you need any help using this FREE OPEN SOURCE SOFTWARE try emailing the_shunt@protonmail.com\n",
        "\n",
        "---\n",
        "You need a Twitter Developer account. You should follow these instructions if you don't have one or you're not sure how to do that: https://towardsdatascience.com/how-to-access-twitters-api-using-tweepy-5a13a206683b\n",
        "\n",
        "Please bear in mind that you need to follow Twitter's rules and agree to not be a dick and loads of other stuff...but that never stopped any of the big guys, eh?\n",
        "\n",
        "**!!! IT MIGHT TAKE A COUPLE OF DAYS TO GET YOUR CREDENTIALS !!!**"
      ]
    },
    {
      "cell_type": "code",
      "metadata": {
        "id": "4owGEvIzES4P",
        "colab_type": "code",
        "colab": {}
      },
      "source": [
        "# required modules that may not be included by default in Jupyter\n",
        "# you may need to \"Restart Runtime\" afterwards...\n",
        "pip install --upgrade tweepy requests"
      ],
      "execution_count": 0,
      "outputs": []
    },
    {
      "cell_type": "code",
      "metadata": {
        "id": "xWRxSronCYLR",
        "colab_type": "code",
        "colab": {}
      },
      "source": [
        "# import modules\n",
        "import tweepy\n",
        "import ssl\n",
        "import time\n",
        "from requests.exceptions import Timeout, ConnectionError\n",
        "from requests.packages.urllib3.exceptions import ReadTimeoutError"
      ],
      "execution_count": 0,
      "outputs": []
    },
    {
      "cell_type": "code",
      "metadata": {
        "id": "QEg_dwjwE6eG",
        "colab_type": "code",
        "colab": {}
      },
      "source": [
        "# You need to get a developer account...it's free, but be aware of your\n",
        "# API call allowance...you only get so many calls per \"tier\" of developer.\n",
        "# As we're only looking for Marvin related stuff it should be OK to run this\n",
        "# with your own credentials until you hit your rate limit. :)\n",
        "\n",
        "# Go here and do Twitter stuff: \n",
        "# https://developer.twitter.com/en/apply-for-access.html\n",
        "#\n",
        "# Please bear in mind that you need to follow Twitter's rules and agree to not \n",
        "# be a dick and loads of other stuff...but that never stopped any of the \n",
        "# Big Guys, eh?\n",
        "#\n",
        "# !!! IT MIGHT TAKE A COUPLE OF DAYS TO GET YOUR CREDENTIALS !!!\n",
        "# \n",
        "#\n",
        "# Add those Twitter API credentials here!\n",
        "consumer_key = \"YOUR_CONSUMER_KEY\"\n",
        "consumer_secret = \"YOUR_CONSUMER_SECRET\"\n",
        "access_key = \"YOUR_ACCESS_KEY\"\n",
        "access_secret = \"YOUR_ACCESS_SECRET\"\n",
        "# Authenticate with Twitter\n",
        "auth = tweepy.OAuthHandler(consumer_key, consumer_secret)\n",
        "auth.set_access_token(access_key, access_secret)\n",
        "\n",
        "# wrap API\n",
        "api = tweepy.API(auth)"
      ],
      "execution_count": 0,
      "outputs": []
    },
    {
      "cell_type": "markdown",
      "metadata": {
        "id": "W32jQpRyKWKl",
        "colab_type": "text"
      },
      "source": [
        "You should be authenticated with the API now, so it is time to define your keywords. You should add an @ for user names and # for hashtags..."
      ]
    },
    {
      "cell_type": "code",
      "metadata": {
        "id": "N5QP55jIKW0u",
        "colab_type": "code",
        "colab": {}
      },
      "source": [
        "# @'s #'s or word\n",
        "keywords = [\"@MarvinJRees\", \"#Bristol\", \"Wasteman\"]"
      ],
      "execution_count": 0,
      "outputs": []
    },
    {
      "cell_type": "markdown",
      "metadata": {
        "id": "yf3bo5K0LYL_",
        "colab_type": "text"
      },
      "source": [
        "Don't worry about this bit...it's just code. Run it, and then head down the page and click next to the bit that says **\"ninety_k_thnkx_bai\"**"
      ]
    },
    {
      "cell_type": "code",
      "metadata": {
        "id": "MafUBXiLLvfj",
        "colab_type": "code",
        "colab": {}
      },
      "source": [
        "class StreamListener(tweepy.StreamListener):\n",
        "\n",
        "    def on_status(self, status):\n",
        "        try:\n",
        "            # saves the tweet object\n",
        "            tweet_object = status\n",
        "\n",
        "            # Checks if its a extended tweet (>140 characters)\n",
        "            if 'extended_tweet' in tweet_object._json:\n",
        "                tweet = tweet_object.extended_tweet['full_text']\n",
        "            else:\n",
        "                tweet = tweet_object.text\n",
        "\n",
        "            '''Convert all named and numeric character references\n",
        "            (e.g. &gt;, &#62;, &#x3e;) in the string s to the\n",
        "            corresponding Unicode characters'''\n",
        "            tweet = (tweet.replace('&amp;', '&').replace('&lt;', '<')\n",
        "                     .replace('&gt;', '>').replace('&quot;', '\"')\n",
        "                     .replace('&#39;', \"'\").replace(';', \" \")\n",
        "                     .replace(r'\\u', \" \"))\n",
        "\n",
        "            # Save the keyword that matches the stream\n",
        "            keyword_matches = []\n",
        "            for word in keywords:\n",
        "                if word.lower() in tweet.lower():\n",
        "                    keyword_matches.extend([word])\n",
        "\n",
        "            keywords_strings = \", \".join(str(x) for x in keyword_matches)\n",
        "\n",
        "            # Save other information from the tweet\n",
        "            user = status.author.screen_name\n",
        "            timeTweet = status.created_at\n",
        "            source = status.source\n",
        "            tweetId = status.id\n",
        "            tweetUrl = f'https://twitter.com/{user}/status/{tweetID}'\n",
        "\n",
        "            # Output:\n",
        "            print([tweet, keywords_strings, timeTweet, user, source, tweetId, \n",
        "                   tweetUrl])\n",
        "        except Exception as e:\n",
        "            print('Encountered Exception:', e)\n",
        "            pass\n"
      ],
      "execution_count": 0,
      "outputs": []
    },
    {
      "cell_type": "markdown",
      "metadata": {
        "id": "Eo1_gq91N8u9",
        "colab_type": "text"
      },
      "source": [
        "We're done now...click the button and wait... :)"
      ]
    },
    {
      "cell_type": "code",
      "metadata": {
        "id": "aWiTtHION7gm",
        "colab_type": "code",
        "colab": {}
      },
      "source": [
        "def ninety_k_thnkx_bai():\n",
        "    try:\n",
        "        streamingAPI = tweepy.streaming.Stream(auth, StreamListener())\n",
        "        streamingAPI.filter(track=keywords)\n",
        "    # Stop temporarily when hitting Twitter rate Limit\n",
        "    except tweepy.RateLimitError:\n",
        "        print(\"RateLimitError...waiting ~15 minutes to continue\")\n",
        "        time.sleep(1001)\n",
        "        streamingAPI = tweepy.streaming.Stream(auth, StreamListener())\n",
        "        streamingAPI.filter(track=[keywords])\n",
        "    # Stop temporarily when getting a timeout or connection error\n",
        "    except (Timeout, ssl.SSLError, ReadTimeoutError, ConnectionError) as exc:\n",
        "        print(\"Timeout/connection error...waiting ~15 minutes to continue\")\n",
        "        time.sleep(1001)\n",
        "        streamingAPI = tweepy.streaming.Stream(auth, StreamListener())\n",
        "        streamingAPI.filter(track=[keywords])\n",
        "    # Stop temporarily when getting other errors\n",
        "    except tweepy.TweepError as e:\n",
        "        if 'Failed to send request:' in e.reason:\n",
        "            print(\"Time out error caught.\")\n",
        "            time.sleep(1001)\n",
        "            streamingAPI = tweepy.streaming.Stream(auth, StreamListener())\n",
        "            streamingAPI.filter(track=[keywords])\n",
        "        else:\n",
        "            print(\"Other error with this user...passing\")\n",
        "            pass\n"
      ],
      "execution_count": 0,
      "outputs": []
    }
  ]
}